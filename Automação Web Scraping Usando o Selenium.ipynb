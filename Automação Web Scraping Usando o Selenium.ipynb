{
 "cells": [
  {
   "cell_type": "markdown",
   "metadata": {
    "id": "Du2CSHjyWpAK"
   },
   "source": [
    "# Automação Web e Busca de Informações com Python\n",
    "\n",
    "#### Desafio: \n",
    "\n",
    "Trabalhamos em uma importadora e o preço dos nossos produtos é vinculado a cotação de:\n",
    "- Dólar\n",
    "- Euro\n",
    "- Ouro\n",
    "\n",
    "Precisamos pegar na internet, de forma automática, a cotação desses 3 itens e saber quanto devemos cobrar pelos nossos produtos, considerando uma margem de contribuição que temos na nossa base de dados.\n",
    "\n",
    "Para isso, vamos criar uma automação web:\n",
    "\n",
    "- Usaremos o selenium\n",
    "- Importante: baixar o webdriver"
   ]
  },
  {
   "cell_type": "code",
   "execution_count": 15,
   "metadata": {
    "scrolled": true
   },
   "outputs": [
    {
     "name": "stdout",
     "output_type": "stream",
     "text": [
      "5.2124\n",
      "5.340833536000001\n",
      "303.17\n"
     ]
    }
   ],
   "source": [
    "from selenium import webdriver\n",
    "from selenium.webdriver.common.keys import Keys\n",
    "\n",
    "# Passo 1: Pegar a cotação do dólar\n",
    "# Abrir o navegador\n",
    "navegador = webdriver.Chrome()\n",
    "# Entrar no google\n",
    "navegador.get(\"https://www.google.com/\")\n",
    "# Pesquisar cotação dólar no google\n",
    "navegador.find_element('xpath', \n",
    "                       '/html/body/div[1]/div[3]/form/div[1]/div[1]/div[1]/div/div[2]/input').send_keys(\"cotação dólar\")\n",
    "navegador.find_element('xpath', \n",
    "                       '/html/body/div[1]/div[3]/form/div[1]/div[1]/div[1]/div/div[2]/input').send_keys(Keys.ENTER)\n",
    "# Pegar a cotação\n",
    "cotacao_dolar = navegador.find_element('xpath', \n",
    "                       '//*[@id=\"knowledge-currency__updatable-data-column\"]/div[1]/div[2]/span[1]').get_attribute('data-value')\n",
    "\n",
    "print(cotacao_dolar)\n",
    "\n",
    "# Entrar no google\n",
    "navegador.get(\"https://www.google.com/\")\n",
    "# Passo 2: Pegar a cotação do euro\n",
    "navegador.find_element('xpath', \n",
    "                       '/html/body/div[1]/div[3]/form/div[1]/div[1]/div[1]/div/div[2]/input').send_keys(\"cotação euro\")\n",
    "navegador.find_element('xpath', \n",
    "                       '/html/body/div[1]/div[3]/form/div[1]/div[1]/div[1]/div/div[2]/input').send_keys(Keys.ENTER)\n",
    "# Pegar a cotação\n",
    "cotacao_euro = navegador.find_element('xpath', \n",
    "                       '//*[@id=\"knowledge-currency__updatable-data-column\"]/div[1]/div[2]/span[1]').get_attribute('data-value')\n",
    "print(cotacao_euro)\n",
    "\n",
    "# Passo 3: Pegar a cotação do ouro\n",
    "navegador.get(\"https://www.melhorcambio.com/ouro-hoje\")\n",
    "\n",
    "cotacao_ouro = navegador.find_element('xpath', '//*[@id=\"comercial\"]').get_attribute('value')\n",
    "cotacao_ouro = cotacao_ouro.replace(\",\", \".\")\n",
    "print(cotacao_ouro)\n",
    "\n",
    "navegador.quit()"
   ]
  },
  {
   "cell_type": "markdown",
   "metadata": {
    "id": "GxATG2aXWpAQ"
   },
   "source": [
    "### Agora vamos atualizar a nossa base de preços com as novas cotações"
   ]
  },
  {
   "cell_type": "markdown",
   "metadata": {
    "id": "xyNtwmqEWpAR"
   },
   "source": [
    "- Importando a base de dados"
   ]
  },
  {
   "cell_type": "code",
   "execution_count": 16,
   "metadata": {
    "id": "E1mhAQURWpAS",
    "scrolled": true
   },
   "outputs": [
    {
     "data": {
      "text/html": [
       "<div>\n",
       "<style scoped>\n",
       "    .dataframe tbody tr th:only-of-type {\n",
       "        vertical-align: middle;\n",
       "    }\n",
       "\n",
       "    .dataframe tbody tr th {\n",
       "        vertical-align: top;\n",
       "    }\n",
       "\n",
       "    .dataframe thead th {\n",
       "        text-align: right;\n",
       "    }\n",
       "</style>\n",
       "<table border=\"1\" class=\"dataframe\">\n",
       "  <thead>\n",
       "    <tr style=\"text-align: right;\">\n",
       "      <th></th>\n",
       "      <th>Produtos</th>\n",
       "      <th>Preço Original</th>\n",
       "      <th>Moeda</th>\n",
       "      <th>Cotação</th>\n",
       "      <th>Preço de Compra</th>\n",
       "      <th>Margem</th>\n",
       "      <th>Preço de Venda</th>\n",
       "    </tr>\n",
       "  </thead>\n",
       "  <tbody>\n",
       "    <tr>\n",
       "      <th>0</th>\n",
       "      <td>Câmera Canon</td>\n",
       "      <td>999.99</td>\n",
       "      <td>Dólar</td>\n",
       "      <td>5</td>\n",
       "      <td>4999.95</td>\n",
       "      <td>1.40</td>\n",
       "      <td>6999.930</td>\n",
       "    </tr>\n",
       "    <tr>\n",
       "      <th>1</th>\n",
       "      <td>Carro Renault</td>\n",
       "      <td>4500.00</td>\n",
       "      <td>Euro</td>\n",
       "      <td>6</td>\n",
       "      <td>27000.00</td>\n",
       "      <td>2.00</td>\n",
       "      <td>54000.000</td>\n",
       "    </tr>\n",
       "    <tr>\n",
       "      <th>2</th>\n",
       "      <td>Notebook Dell</td>\n",
       "      <td>899.99</td>\n",
       "      <td>Dólar</td>\n",
       "      <td>5</td>\n",
       "      <td>4499.95</td>\n",
       "      <td>1.70</td>\n",
       "      <td>7649.915</td>\n",
       "    </tr>\n",
       "    <tr>\n",
       "      <th>3</th>\n",
       "      <td>IPhone</td>\n",
       "      <td>799.00</td>\n",
       "      <td>Dólar</td>\n",
       "      <td>5</td>\n",
       "      <td>3995.00</td>\n",
       "      <td>1.70</td>\n",
       "      <td>6791.500</td>\n",
       "    </tr>\n",
       "    <tr>\n",
       "      <th>4</th>\n",
       "      <td>Carro Fiat</td>\n",
       "      <td>3000.00</td>\n",
       "      <td>Euro</td>\n",
       "      <td>6</td>\n",
       "      <td>18000.00</td>\n",
       "      <td>1.90</td>\n",
       "      <td>34200.000</td>\n",
       "    </tr>\n",
       "    <tr>\n",
       "      <th>5</th>\n",
       "      <td>Celular Xiaomi</td>\n",
       "      <td>480.48</td>\n",
       "      <td>Dólar</td>\n",
       "      <td>5</td>\n",
       "      <td>2402.40</td>\n",
       "      <td>2.00</td>\n",
       "      <td>4804.800</td>\n",
       "    </tr>\n",
       "    <tr>\n",
       "      <th>6</th>\n",
       "      <td>Joia 20g</td>\n",
       "      <td>20.00</td>\n",
       "      <td>Ouro</td>\n",
       "      <td>350</td>\n",
       "      <td>7000.00</td>\n",
       "      <td>1.15</td>\n",
       "      <td>8050.000</td>\n",
       "    </tr>\n",
       "  </tbody>\n",
       "</table>\n",
       "</div>"
      ],
      "text/plain": [
       "         Produtos  Preço Original  Moeda  Cotação  Preço de Compra  Margem  \\\n",
       "0    Câmera Canon          999.99  Dólar        5          4999.95    1.40   \n",
       "1   Carro Renault         4500.00   Euro        6         27000.00    2.00   \n",
       "2   Notebook Dell          899.99  Dólar        5          4499.95    1.70   \n",
       "3          IPhone          799.00  Dólar        5          3995.00    1.70   \n",
       "4      Carro Fiat         3000.00   Euro        6         18000.00    1.90   \n",
       "5  Celular Xiaomi          480.48  Dólar        5          2402.40    2.00   \n",
       "6        Joia 20g           20.00   Ouro      350          7000.00    1.15   \n",
       "\n",
       "   Preço de Venda  \n",
       "0        6999.930  \n",
       "1       54000.000  \n",
       "2        7649.915  \n",
       "3        6791.500  \n",
       "4       34200.000  \n",
       "5        4804.800  \n",
       "6        8050.000  "
      ]
     },
     "metadata": {},
     "output_type": "display_data"
    }
   ],
   "source": [
    "# Passo 4: Atualizar a base de dados\n",
    "import pandas as pd\n",
    "\n",
    "tabela = pd.read_excel(\"Produtos.xlsx\")\n",
    "display(tabela)"
   ]
  },
  {
   "cell_type": "markdown",
   "metadata": {
    "id": "EgMHpJ1DWpAS"
   },
   "source": [
    "- Atualizando os preços e o cálculo do Preço Final"
   ]
  },
  {
   "cell_type": "code",
   "execution_count": 17,
   "metadata": {
    "id": "8mABdyr6WpAT"
   },
   "outputs": [
    {
     "data": {
      "text/html": [
       "<div>\n",
       "<style scoped>\n",
       "    .dataframe tbody tr th:only-of-type {\n",
       "        vertical-align: middle;\n",
       "    }\n",
       "\n",
       "    .dataframe tbody tr th {\n",
       "        vertical-align: top;\n",
       "    }\n",
       "\n",
       "    .dataframe thead th {\n",
       "        text-align: right;\n",
       "    }\n",
       "</style>\n",
       "<table border=\"1\" class=\"dataframe\">\n",
       "  <thead>\n",
       "    <tr style=\"text-align: right;\">\n",
       "      <th></th>\n",
       "      <th>Produtos</th>\n",
       "      <th>Preço Original</th>\n",
       "      <th>Moeda</th>\n",
       "      <th>Cotação</th>\n",
       "      <th>Preço de Compra</th>\n",
       "      <th>Margem</th>\n",
       "      <th>Preço de Venda</th>\n",
       "    </tr>\n",
       "  </thead>\n",
       "  <tbody>\n",
       "    <tr>\n",
       "      <th>0</th>\n",
       "      <td>Câmera Canon</td>\n",
       "      <td>999.99</td>\n",
       "      <td>Dólar</td>\n",
       "      <td>5.212400</td>\n",
       "      <td>5212.347876</td>\n",
       "      <td>1.40</td>\n",
       "      <td>7297.287026</td>\n",
       "    </tr>\n",
       "    <tr>\n",
       "      <th>1</th>\n",
       "      <td>Carro Renault</td>\n",
       "      <td>4500.00</td>\n",
       "      <td>Euro</td>\n",
       "      <td>5.340834</td>\n",
       "      <td>24033.750912</td>\n",
       "      <td>2.00</td>\n",
       "      <td>48067.501824</td>\n",
       "    </tr>\n",
       "    <tr>\n",
       "      <th>2</th>\n",
       "      <td>Notebook Dell</td>\n",
       "      <td>899.99</td>\n",
       "      <td>Dólar</td>\n",
       "      <td>5.212400</td>\n",
       "      <td>4691.107876</td>\n",
       "      <td>1.70</td>\n",
       "      <td>7974.883389</td>\n",
       "    </tr>\n",
       "    <tr>\n",
       "      <th>3</th>\n",
       "      <td>IPhone</td>\n",
       "      <td>799.00</td>\n",
       "      <td>Dólar</td>\n",
       "      <td>5.212400</td>\n",
       "      <td>4164.707600</td>\n",
       "      <td>1.70</td>\n",
       "      <td>7080.002920</td>\n",
       "    </tr>\n",
       "    <tr>\n",
       "      <th>4</th>\n",
       "      <td>Carro Fiat</td>\n",
       "      <td>3000.00</td>\n",
       "      <td>Euro</td>\n",
       "      <td>5.340834</td>\n",
       "      <td>16022.500608</td>\n",
       "      <td>1.90</td>\n",
       "      <td>30442.751155</td>\n",
       "    </tr>\n",
       "    <tr>\n",
       "      <th>5</th>\n",
       "      <td>Celular Xiaomi</td>\n",
       "      <td>480.48</td>\n",
       "      <td>Dólar</td>\n",
       "      <td>5.212400</td>\n",
       "      <td>2504.453952</td>\n",
       "      <td>2.00</td>\n",
       "      <td>5008.907904</td>\n",
       "    </tr>\n",
       "    <tr>\n",
       "      <th>6</th>\n",
       "      <td>Joia 20g</td>\n",
       "      <td>20.00</td>\n",
       "      <td>Ouro</td>\n",
       "      <td>303.170000</td>\n",
       "      <td>6063.400000</td>\n",
       "      <td>1.15</td>\n",
       "      <td>6972.910000</td>\n",
       "    </tr>\n",
       "  </tbody>\n",
       "</table>\n",
       "</div>"
      ],
      "text/plain": [
       "         Produtos  Preço Original  Moeda     Cotação  Preço de Compra  Margem  \\\n",
       "0    Câmera Canon          999.99  Dólar    5.212400      5212.347876    1.40   \n",
       "1   Carro Renault         4500.00   Euro    5.340834     24033.750912    2.00   \n",
       "2   Notebook Dell          899.99  Dólar    5.212400      4691.107876    1.70   \n",
       "3          IPhone          799.00  Dólar    5.212400      4164.707600    1.70   \n",
       "4      Carro Fiat         3000.00   Euro    5.340834     16022.500608    1.90   \n",
       "5  Celular Xiaomi          480.48  Dólar    5.212400      2504.453952    2.00   \n",
       "6        Joia 20g           20.00   Ouro  303.170000      6063.400000    1.15   \n",
       "\n",
       "   Preço de Venda  \n",
       "0     7297.287026  \n",
       "1    48067.501824  \n",
       "2     7974.883389  \n",
       "3     7080.002920  \n",
       "4    30442.751155  \n",
       "5     5008.907904  \n",
       "6     6972.910000  "
      ]
     },
     "metadata": {},
     "output_type": "display_data"
    }
   ],
   "source": [
    "# Passo 5: Recalcular os preços\n",
    "\n",
    "# Atualizar as cotações\n",
    "tabela.loc[tabela[\"Moeda\"]==\"Dólar\", \"Cotação\"] = float(cotacao_dolar)\n",
    "tabela.loc[tabela[\"Moeda\"]==\"Euro\", \"Cotação\"] = float(cotacao_euro)\n",
    "tabela.loc[tabela[\"Moeda\"]==\"Ouro\", \"Cotação\"] = float(cotacao_ouro)\n",
    "\n",
    "# Preço de compra = Preço Original * Cotação\n",
    "tabela[\"Preço de Compra\"] = tabela[\"Preço Original\"] * tabela[\"Cotação\"]\n",
    "\n",
    "\n",
    "# Preço de Venda = Preço de Compra * Margem\n",
    "tabela[\"Preço de Venda\"] = tabela[\"Preço de Compra\"] * tabela[\"Margem\"]\n",
    "\n",
    "display(tabela)"
   ]
  },
  {
   "cell_type": "markdown",
   "metadata": {
    "id": "YyfYsg1eWpAT"
   },
   "source": [
    "### Agora vamos exportar a nova base de preços atualizada"
   ]
  },
  {
   "cell_type": "code",
   "execution_count": 18,
   "metadata": {
    "id": "Puyzmb0hWpAU"
   },
   "outputs": [],
   "source": [
    "# Passo 6: Exportar a base de dados\n",
    "tabela.to_excel(\"Produtos Novo.xlsx\", index=False)"
   ]
  }
 ],
 "metadata": {
  "colab": {
   "name": "Arquivo Inicial - Aula 3.ipynb",
   "provenance": []
  },
  "kernelspec": {
   "display_name": "Python 3 (ipykernel)",
   "language": "python",
   "name": "python3"
  },
  "language_info": {
   "codemirror_mode": {
    "name": "ipython",
    "version": 3
   },
   "file_extension": ".py",
   "mimetype": "text/x-python",
   "name": "python",
   "nbconvert_exporter": "python",
   "pygments_lexer": "ipython3",
   "version": "3.9.7"
  }
 },
 "nbformat": 4,
 "nbformat_minor": 1
}
